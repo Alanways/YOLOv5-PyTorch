{
 "cells": [
  {
   "cell_type": "code",
   "execution_count": 1,
   "metadata": {},
   "outputs": [
    {
     "data": {
      "text/plain": [
       "<All keys matched successfully>"
      ]
     },
     "execution_count": 1,
     "metadata": {},
     "output_type": "execute_result"
    }
   ],
   "source": [
    "import torch\n",
    "import yolo\n",
    "from PIL import Image\n",
    "from torchvision import transforms\n",
    "\n",
    "\n",
    "ckpt_path = \"../ckpts/yolov5s_133d4383.pth\"\n",
    "# COCO dataset, 80 classes\n",
    "classes = (\n",
    "    \"person\", \"bicycle\", \"car\", \"motorcycle\", \"airplane\", \"bus\", \"train\", \"truck\", \"boat\",\n",
    "    \"traffic light\", \"fire hydrant\", \"stop sign\", \"parking meter\", \"bench\", \"bird\", \"cat\",\n",
    "    \"dog\", \"horse\", \"sheep\", \"cow\", \"elephant\", \"bear\", \"zebra\", \"giraffe\", \"backpack\",\n",
    "    \"umbrella\", \"handbag\", \"tie\", \"suitcase\", \"frisbee\", \"skis\", \"snowboard\", \"sports ball\",\n",
    "    \"kite\", \"baseball bat\", \"baseball glove\", \"skateboard\", \"surfboard\", \"tennis racket\",\n",
    "    \"bottle\", \"wine glass\", \"cup\", \"fork\", \"knife\", \"spoon\", \"bowl\", \"banana\", \"apple\",\n",
    "    \"sandwich\", \"orange\", \"broccoli\", \"carrot\", \"hot dog\", \"pizza\", \"donut\", \"cake\", \"chair\",\n",
    "    \"couch\", \"potted plant\", \"bed\", \"dining table\", \"toilet\", \"tv\", \"laptop\", \"mouse\", \"remote\",\n",
    "    \"keyboard\", \"cell phone\", \"microwave\", \"oven\", \"toaster\", \"sink\", \"refrigerator\", \"book\",\n",
    "    \"clock\", \"vase\", \"scissors\", \"teddy bear\", \"hair drier\", \"toothbrush\")\n",
    "\n",
    "model = yolo.YOLOv5(80, img_sizes=(384, 480), score_thresh=0.3)\n",
    "model.eval()\n",
    "\n",
    "checkpoint = torch.load(ckpt_path)\n",
    "model.load_state_dict(checkpoint)"
   ]
  },
  {
   "cell_type": "code",
   "execution_count": null,
   "metadata": {},
   "outputs": [],
   "source": [
    "img = Image.open(\"./images/001.jpg\")\n",
    "img = transforms.ToTensor()(img)\n",
    "\n",
    "images = [img]\n",
    "results, _ = model(images)\n",
    "yolo.show(images, results, classes, \"r001.jpg\")"
   ]
  },
  {
   "cell_type": "code",
   "execution_count": 3,
   "metadata": {},
   "outputs": [],
   "source": [
    "# below is to test COCO val2017 dataset"
   ]
  },
  {
   "cell_type": "code",
   "execution_count": null,
   "metadata": {},
   "outputs": [],
   "source": [
    "import os\n",
    "\n",
    "use_cuda = False\n",
    "dataset = \"coco\" # currently only support VOC and COCO datasets\n",
    "data_dir = \"E:/PyTorch/data/coco2017\"\n",
    "output_dir = \"../yolov5s_val2017\"\n",
    "\n",
    "# create output directory\n",
    "if not os.path.exists(output_dir):\n",
    "    os.mkdir(output_dir)\n",
    "    \n",
    "# choose device and show GPU information\n",
    "device = torch.device(\"cuda\" if torch.cuda.is_available() and use_cuda else \"cpu\")\n",
    "cuda = device.type == \"cuda\"\n",
    "if cuda: yolo.get_gpu_prop(show=True)\n",
    "print(\"\\ndevice: {}\".format(device))\n",
    "\n",
    "ds = yolo.datasets(dataset, data_dir, \"val2017\", train=True)\n",
    "dl = torch.utils.data.DataLoader(ds, shuffle=True, collate_fn=yolo.collate_wrapper, pin_memory=cuda)\n",
    "# DataPrefetcher behaves like PyTorch's DataLoader, but it outputs CUDA tensors\n",
    "d = yolo.DataPrefetcher(dl) if cuda else dl\n",
    "\n",
    "model = yolo.YOLOv5(len(ds.classes), img_sizes=(384, 480), score_thresh=0.4).to(device)\n",
    "model.eval()\n",
    "\n",
    "if ckpt_path:\n",
    "    checkpoint = torch.load(ckpt_path, map_location=device)\n",
    "    if \"ema\" in checkpoint:\n",
    "        model.load_state_dict(checkpoint[\"ema\"][0])\n",
    "        print(checkpoint[\"eval_info\"])\n",
    "    else:\n",
    "        model.load_state_dict(checkpoint)\n",
    "    del checkpoint\n",
    "    torch.cuda.empty_cache()\n",
    "    \n",
    "for p in model.parameters():\n",
    "    p.requires_grad_(False)"
   ]
  },
  {
   "cell_type": "code",
   "execution_count": null,
   "metadata": {},
   "outputs": [],
   "source": [
    "iters = 100\n",
    "\n",
    "for i, data in enumerate(d):\n",
    "    images = data.images\n",
    "    targets = data.targets\n",
    "    \n",
    "    with torch.no_grad():\n",
    "        results, losses = model(images)\n",
    "        \n",
    "    # images' saving names\n",
    "    save = [os.path.join(output_dir, \"{}.jpg\".format(tgt[\"image_id\"].item())) for tgt in targets]\n",
    "    yolo.show(images, results, ds.classes, save)\n",
    "\n",
    "    if i >= iters - 1:\n",
    "        break"
   ]
  },
  {
   "cell_type": "code",
   "execution_count": null,
   "metadata": {},
   "outputs": [],
   "source": []
  }
 ],
 "metadata": {
  "kernelspec": {
   "display_name": "Python [conda env:pytorch]",
   "language": "python",
   "name": "conda-env-pytorch-py"
  },
  "language_info": {
   "codemirror_mode": {
    "name": "ipython",
    "version": 3
   },
   "file_extension": ".py",
   "mimetype": "text/x-python",
   "name": "python",
   "nbconvert_exporter": "python",
   "pygments_lexer": "ipython3",
   "version": "3.7.6"
  }
 },
 "nbformat": 4,
 "nbformat_minor": 2
}
